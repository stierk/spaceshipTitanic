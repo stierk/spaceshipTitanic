{
 "cells": [
  {
   "cell_type": "markdown",
   "metadata": {
    "id": "Ck00s7mTmnjA"
   },
   "source": [
    "# Spaceship Titanic Dataset with TensorFlow Decision Forests"
   ]
  },
  {
   "cell_type": "markdown",
   "metadata": {
    "id": "62leGXylmnjF"
   },
   "source": [
    "This notebook walks you through how to train a baseline Random Forest model using TensorFlow Decision Forests on the Spaceship Titanic dataset made available for this competition.\n",
    "\n",
    "Roughly, the code will look as follows:\n",
    "\n",
    "```\n",
    "import tensorflow_decision_forests as tfdf\n",
    "import pandas as pd\n",
    "\n",
    "dataset = pd.read_csv(\"project/dataset.csv\")\n",
    "tf_dataset = tfdf.keras.pd_dataframe_to_tf_dataset(dataset, label=\"my_label\")\n",
    "\n",
    "model = tfdf.keras.RandomForestModel()\n",
    "model.fit(tf_dataset)\n",
    "\n",
    "print(model.summary())\n",
    "```\n",
    "\n",
    "Decision Forests are a family of tree-based models including Random Forests and Gradient Boosted Trees. They are the best place to start when working with tabular data, and will often outperform (or provide a strong baseline) before you begin experimenting with neural networks."
   ]
  },
  {
   "cell_type": "markdown",
   "metadata": {
    "id": "UPNzfVOEmnjH"
   },
   "source": [
    "# Import the library"
   ]
  },
  {
   "cell_type": "code",
   "execution_count": 3,
   "metadata": {
    "id": "mmwBzpblmnjH"
   },
   "outputs": [],
   "source": [
    "import tensorflow as tf\n",
    "#import tensorflow_decision_forests as tfdf\n",
    "import pandas as pd\n",
    "import numpy as np\n",
    "import seaborn as sns\n",
    "import matplotlib.pyplot as plt"
   ]
  },
  {
   "cell_type": "code",
   "execution_count": 4,
   "metadata": {
    "id": "grAO86gTmnjJ"
   },
   "outputs": [
    {
     "name": "stdout",
     "output_type": "stream",
     "text": [
      "TensorFlow v2.18.0\n"
     ]
    },
    {
     "ename": "NameError",
     "evalue": "name 'tfdf' is not defined",
     "output_type": "error",
     "traceback": [
      "\u001b[1;31m---------------------------------------------------------------------------\u001b[0m",
      "\u001b[1;31mNameError\u001b[0m                                 Traceback (most recent call last)",
      "Cell \u001b[1;32mIn[4], line 2\u001b[0m\n\u001b[0;32m      1\u001b[0m \u001b[38;5;28mprint\u001b[39m(\u001b[38;5;124m\"\u001b[39m\u001b[38;5;124mTensorFlow v\u001b[39m\u001b[38;5;124m\"\u001b[39m \u001b[38;5;241m+\u001b[39m tf\u001b[38;5;241m.\u001b[39m__version__)\n\u001b[1;32m----> 2\u001b[0m \u001b[38;5;28mprint\u001b[39m(\u001b[38;5;124m\"\u001b[39m\u001b[38;5;124mTensorFlow Decision Forests v\u001b[39m\u001b[38;5;124m\"\u001b[39m \u001b[38;5;241m+\u001b[39m \u001b[43mtfdf\u001b[49m\u001b[38;5;241m.\u001b[39m__version__)\n",
      "\u001b[1;31mNameError\u001b[0m: name 'tfdf' is not defined"
     ]
    }
   ],
   "source": [
    "print(\"TensorFlow v\" + tf.__version__)\n",
    "#print(\"TensorFlow Decision Forests v\" + tfdf.__version__)"
   ]
  },
  {
   "cell_type": "markdown",
   "metadata": {
    "id": "6sHFpppPmnjJ"
   },
   "source": [
    "# Load the Dataset"
   ]
  },
  {
   "cell_type": "code",
   "execution_count": null,
   "metadata": {
    "execution": {
     "iopub.execute_input": "2023-03-17T11:38:00.248845Z",
     "iopub.status.busy": "2023-03-17T11:38:00.24843Z",
     "iopub.status.idle": "2023-03-17T11:38:00.331706Z",
     "shell.execute_reply": "2023-03-17T11:38:00.330322Z",
     "shell.execute_reply.started": "2023-03-17T11:38:00.248794Z"
    },
    "id": "c1P3Y3a7mnjL"
   },
   "outputs": [],
   "source": [
    "# Load a dataset into a Pandas Dataframe\n",
    "dataset_df = pd.read_csv('/kaggle/input/spaceship-titanic/train.csv')\n",
    "print(\"Full train dataset shape is {}\".format(dataset_df.shape))"
   ]
  },
  {
   "cell_type": "markdown",
   "metadata": {
    "id": "cEd92zhJmnjL"
   },
   "source": [
    "The data is composed of 14 columns and 8693 entries. We can see all 14 dimensions of our dataset by printing out the first 5 entries using the following code:"
   ]
  },
  {
   "cell_type": "code",
   "execution_count": null,
   "metadata": {
    "execution": {
     "iopub.execute_input": "2023-03-17T11:38:00.334921Z",
     "iopub.status.busy": "2023-03-17T11:38:00.334527Z",
     "iopub.status.idle": "2023-03-17T11:38:00.375222Z",
     "shell.execute_reply": "2023-03-17T11:38:00.373944Z",
     "shell.execute_reply.started": "2023-03-17T11:38:00.334887Z"
    },
    "id": "nCx3PE1xmnjM"
   },
   "outputs": [],
   "source": [
    "# Display the first 5 examples\n",
    "dataset_df.head(5)"
   ]
  },
  {
   "cell_type": "markdown",
   "metadata": {
    "id": "0-Euaq6dmnjN"
   },
   "source": [
    "There are 12 feature columns. Using these features your model has to predict whether the passenger is rescued or not indicated by the column `Transported`."
   ]
  },
  {
   "cell_type": "markdown",
   "metadata": {
    "id": "1-Ewr6XDmnjN"
   },
   "source": [
    "# Let us quickly do a basic exploration of the dataset"
   ]
  },
  {
   "cell_type": "code",
   "execution_count": null,
   "metadata": {
    "execution": {
     "iopub.execute_input": "2023-03-17T11:38:00.378197Z",
     "iopub.status.busy": "2023-03-17T11:38:00.377568Z",
     "iopub.status.idle": "2023-03-17T11:38:00.424386Z",
     "shell.execute_reply": "2023-03-17T11:38:00.422951Z",
     "shell.execute_reply.started": "2023-03-17T11:38:00.378158Z"
    },
    "id": "XjwG5wjfmnjO"
   },
   "outputs": [],
   "source": [
    "dataset_df.describe()"
   ]
  },
  {
   "cell_type": "code",
   "execution_count": null,
   "metadata": {
    "execution": {
     "iopub.execute_input": "2023-03-17T11:38:00.426812Z",
     "iopub.status.busy": "2023-03-17T11:38:00.426217Z",
     "iopub.status.idle": "2023-03-17T11:38:00.453019Z",
     "shell.execute_reply": "2023-03-17T11:38:00.45196Z",
     "shell.execute_reply.started": "2023-03-17T11:38:00.426758Z"
    },
    "id": "UmWpnVxQmnjO"
   },
   "outputs": [],
   "source": [
    "dataset_df.info()"
   ]
  },
  {
   "cell_type": "markdown",
   "metadata": {
    "id": "PYbIPVaCmnjO"
   },
   "source": [
    "# Bar chart for label column: Transported\n",
    "\n"
   ]
  },
  {
   "cell_type": "code",
   "execution_count": null,
   "metadata": {
    "execution": {
     "iopub.execute_input": "2023-03-17T11:38:00.455536Z",
     "iopub.status.busy": "2023-03-17T11:38:00.455165Z",
     "iopub.status.idle": "2023-03-17T11:38:00.942523Z",
     "shell.execute_reply": "2023-03-17T11:38:00.941488Z",
     "shell.execute_reply.started": "2023-03-17T11:38:00.455487Z"
    },
    "id": "DcaGweARmnjP"
   },
   "outputs": [],
   "source": [
    "plot_df = dataset_df.Transported.value_counts()\n",
    "plot_df.plot(kind=\"bar\")"
   ]
  },
  {
   "cell_type": "markdown",
   "metadata": {
    "id": "LRO2hJlNmnjP"
   },
   "source": [
    "# Numerical data distribution\n",
    "\n",
    "Let us plot all the numerical columns and their value counts:"
   ]
  },
  {
   "cell_type": "code",
   "execution_count": null,
   "metadata": {
    "execution": {
     "iopub.execute_input": "2023-03-17T11:38:00.94456Z",
     "iopub.status.busy": "2023-03-17T11:38:00.94365Z",
     "iopub.status.idle": "2023-03-17T11:38:02.402936Z",
     "shell.execute_reply": "2023-03-17T11:38:02.401861Z",
     "shell.execute_reply.started": "2023-03-17T11:38:00.94452Z"
    },
    "id": "lafxj4fkmnjQ"
   },
   "outputs": [],
   "source": [
    "fig, ax = plt.subplots(5,1,  figsize=(10, 10))\n",
    "plt.subplots_adjust(top = 2)\n",
    "\n",
    "sns.histplot(dataset_df['Age'], color='b', bins=50, ax=ax[0]);\n",
    "sns.histplot(dataset_df['FoodCourt'], color='b', bins=50, ax=ax[1]);\n",
    "sns.histplot(dataset_df['ShoppingMall'], color='b', bins=50, ax=ax[2]);\n",
    "sns.histplot(dataset_df['Spa'], color='b', bins=50, ax=ax[3]);\n",
    "sns.histplot(dataset_df['VRDeck'], color='b', bins=50, ax=ax[4]);"
   ]
  },
  {
   "cell_type": "markdown",
   "metadata": {
    "id": "Trlsxv1emnjQ"
   },
   "source": [
    "# Prepare the dataset"
   ]
  },
  {
   "cell_type": "markdown",
   "metadata": {
    "id": "c-BLN1jcmnjQ"
   },
   "source": [
    "We will drop both `PassengerId` and `Name` columns as they are not necessary for model training."
   ]
  },
  {
   "cell_type": "code",
   "execution_count": null,
   "metadata": {
    "execution": {
     "iopub.execute_input": "2023-03-17T11:38:02.404916Z",
     "iopub.status.busy": "2023-03-17T11:38:02.404126Z",
     "iopub.status.idle": "2023-03-17T11:38:02.427789Z",
     "shell.execute_reply": "2023-03-17T11:38:02.426792Z",
     "shell.execute_reply.started": "2023-03-17T11:38:02.404878Z"
    },
    "id": "nftfBG67mnjR"
   },
   "outputs": [],
   "source": [
    "dataset_df = dataset_df.drop(['PassengerId', 'Name'], axis=1)\n",
    "dataset_df.head(5)"
   ]
  },
  {
   "cell_type": "markdown",
   "metadata": {
    "id": "pXhbIKCemnjR"
   },
   "source": [
    "We will check for the missing values using the following code:"
   ]
  },
  {
   "cell_type": "code",
   "execution_count": null,
   "metadata": {
    "execution": {
     "iopub.execute_input": "2023-03-17T11:38:02.432564Z",
     "iopub.status.busy": "2023-03-17T11:38:02.431608Z",
     "iopub.status.idle": "2023-03-17T11:38:02.451371Z",
     "shell.execute_reply": "2023-03-17T11:38:02.449797Z",
     "shell.execute_reply.started": "2023-03-17T11:38:02.432521Z"
    },
    "id": "3_VMZ9a1mnjR"
   },
   "outputs": [],
   "source": [
    "dataset_df.isnull().sum().sort_values(ascending=False)"
   ]
  },
  {
   "cell_type": "markdown",
   "metadata": {
    "id": "vlWOQl4fmnjS"
   },
   "source": [
    "This dataset contains a mix of numeric, categorical and missing features. TF-DF supports all these feature types natively, and no preprocessing is required.\n",
    "\n",
    "But this datatset also has boolean fields with missing values. TF-DF doesn't support boolean fields yet. So we need to convert those fields into int. To account for the missing values in the boolean fields, we will replace them with zero.\n",
    "\n",
    "In this notebook, we will replace null value entries with zero for numerical columns as well and only let TF-DF handle the missing values in categorical columns.\n",
    "\n",
    "Note: You can choose to let TF-DF handle missing values in numerical columns if need be."
   ]
  },
  {
   "cell_type": "code",
   "execution_count": null,
   "metadata": {
    "execution": {
     "iopub.execute_input": "2023-03-17T11:38:02.453226Z",
     "iopub.status.busy": "2023-03-17T11:38:02.452817Z",
     "iopub.status.idle": "2023-03-17T11:38:02.474601Z",
     "shell.execute_reply": "2023-03-17T11:38:02.47315Z",
     "shell.execute_reply.started": "2023-03-17T11:38:02.453184Z"
    },
    "id": "ASQ5Bh2JmnjS"
   },
   "outputs": [],
   "source": [
    "dataset_df[['VIP', 'CryoSleep', 'FoodCourt', 'ShoppingMall', 'Spa', 'VRDeck']] = dataset_df[['VIP', 'CryoSleep', 'FoodCourt', 'ShoppingMall', 'Spa', 'VRDeck']].fillna(value=0)\n",
    "dataset_df.isnull().sum().sort_values(ascending=False)"
   ]
  },
  {
   "cell_type": "markdown",
   "metadata": {
    "id": "tFbE6D0BmnjT"
   },
   "source": [
    "Since, TF-DF cannot handle boolean columns, we will have to adjust the labels in column `Transported` to convert them into the integer format that TF-DF expects."
   ]
  },
  {
   "cell_type": "code",
   "execution_count": null,
   "metadata": {
    "execution": {
     "iopub.execute_input": "2023-03-17T11:38:02.476771Z",
     "iopub.status.busy": "2023-03-17T11:38:02.476304Z",
     "iopub.status.idle": "2023-03-17T11:38:02.483629Z",
     "shell.execute_reply": "2023-03-17T11:38:02.48248Z",
     "shell.execute_reply.started": "2023-03-17T11:38:02.476723Z"
    },
    "id": "-T6a_RTxmnjT"
   },
   "outputs": [],
   "source": [
    "label = \"Transported\"\n",
    "dataset_df[label] = dataset_df[label].astype(int)"
   ]
  },
  {
   "cell_type": "markdown",
   "metadata": {
    "id": "F6-GATuzmnjU"
   },
   "source": [
    "We will also convert the boolean fields `CryoSleep` and `VIP` to int."
   ]
  },
  {
   "cell_type": "code",
   "execution_count": null,
   "metadata": {
    "execution": {
     "iopub.execute_input": "2023-03-17T11:38:02.486082Z",
     "iopub.status.busy": "2023-03-17T11:38:02.48528Z",
     "iopub.status.idle": "2023-03-17T11:38:02.500728Z",
     "shell.execute_reply": "2023-03-17T11:38:02.499677Z",
     "shell.execute_reply.started": "2023-03-17T11:38:02.486027Z"
    },
    "id": "Wq6PbMnnmnjU"
   },
   "outputs": [],
   "source": [
    "dataset_df['VIP'] = dataset_df['VIP'].astype(int)\n",
    "dataset_df['CryoSleep'] = dataset_df['CryoSleep'].astype(int)"
   ]
  },
  {
   "cell_type": "markdown",
   "metadata": {
    "id": "enjp51h_mnjV"
   },
   "source": [
    "The value of column `Cabin` is a string with the format `Deck/Cabin_num/Side`. Here we will split the `Cabin` column and create 3 new columns `Deck`, `Cabin_num` and `Side`, since it will be easier to train the model on those individual data.\n",
    "\n",
    "Run the following command to split the column `Cabin` into columns `Deck`, `Cabin_num` and `Side`"
   ]
  },
  {
   "cell_type": "code",
   "execution_count": null,
   "metadata": {
    "execution": {
     "iopub.execute_input": "2023-03-17T11:38:02.502591Z",
     "iopub.status.busy": "2023-03-17T11:38:02.502051Z",
     "iopub.status.idle": "2023-03-17T11:38:02.532257Z",
     "shell.execute_reply": "2023-03-17T11:38:02.530824Z",
     "shell.execute_reply.started": "2023-03-17T11:38:02.502556Z"
    },
    "id": "JeAuUvb_mnjV"
   },
   "outputs": [],
   "source": [
    "dataset_df[[\"Deck\", \"Cabin_num\", \"Side\"]] = dataset_df[\"Cabin\"].str.split(\"/\", expand=True)"
   ]
  },
  {
   "cell_type": "markdown",
   "metadata": {
    "id": "vNYEd1AkmnjV"
   },
   "source": [
    "Remove original `Cabin` column from the dataset since it's not needed anymore."
   ]
  },
  {
   "cell_type": "code",
   "execution_count": null,
   "metadata": {
    "execution": {
     "iopub.execute_input": "2023-03-17T11:38:02.534808Z",
     "iopub.status.busy": "2023-03-17T11:38:02.534001Z",
     "iopub.status.idle": "2023-03-17T11:38:02.545112Z",
     "shell.execute_reply": "2023-03-17T11:38:02.543488Z",
     "shell.execute_reply.started": "2023-03-17T11:38:02.534733Z"
    },
    "id": "dOcny3s4mnjV"
   },
   "outputs": [],
   "source": [
    "try:\n",
    "    dataset_df = dataset_df.drop('Cabin', axis=1)\n",
    "except KeyError:\n",
    "    print(\"Field does not exist\")"
   ]
  },
  {
   "cell_type": "markdown",
   "metadata": {
    "id": "Y7byxj5FmnjW"
   },
   "source": [
    "Let us display the first 5 examples from the prepared dataset."
   ]
  },
  {
   "cell_type": "code",
   "execution_count": null,
   "metadata": {
    "execution": {
     "iopub.execute_input": "2023-03-17T11:38:02.54746Z",
     "iopub.status.busy": "2023-03-17T11:38:02.546894Z",
     "iopub.status.idle": "2023-03-17T11:38:02.570683Z",
     "shell.execute_reply": "2023-03-17T11:38:02.56949Z",
     "shell.execute_reply.started": "2023-03-17T11:38:02.547424Z"
    },
    "id": "g0U1OKAYmnjW"
   },
   "outputs": [],
   "source": [
    "dataset_df.head(5)"
   ]
  },
  {
   "cell_type": "markdown",
   "metadata": {
    "id": "l6EmJsSfmnjW"
   },
   "source": [
    "Now let us split the dataset into training and testing datasets:"
   ]
  },
  {
   "cell_type": "code",
   "execution_count": null,
   "metadata": {
    "execution": {
     "iopub.execute_input": "2023-03-17T11:38:02.57342Z",
     "iopub.status.busy": "2023-03-17T11:38:02.572901Z",
     "iopub.status.idle": "2023-03-17T11:38:02.589814Z",
     "shell.execute_reply": "2023-03-17T11:38:02.588363Z",
     "shell.execute_reply.started": "2023-03-17T11:38:02.573367Z"
    },
    "id": "_drMgwAAmnjX"
   },
   "outputs": [],
   "source": [
    "def split_dataset(dataset, test_ratio=0.20):\n",
    "  test_indices = np.random.rand(len(dataset)) < test_ratio\n",
    "  return dataset[~test_indices], dataset[test_indices]\n",
    "\n",
    "train_ds_pd, valid_ds_pd = split_dataset(dataset_df)\n",
    "print(\"{} examples in training, {} examples in testing.\".format(\n",
    "    len(train_ds_pd), len(valid_ds_pd)))"
   ]
  },
  {
   "cell_type": "markdown",
   "metadata": {
    "id": "_gg4nfB1mnjX"
   },
   "source": [
    "There's one more step required before we can train the model. We need to convert the datatset from Pandas format (`pd.DataFrame`) into TensorFlow Datasets format (`tf.data.Dataset`).\n",
    "\n",
    "[TensorFlow Datasets](https://www.tensorflow.org/datasets/overview) is a high performance data loading library which is helpful when training neural networks with accelerators like GPUs and TPUs."
   ]
  },
  {
   "cell_type": "code",
   "execution_count": null,
   "metadata": {
    "execution": {
     "iopub.execute_input": "2023-03-17T11:38:02.591679Z",
     "iopub.status.busy": "2023-03-17T11:38:02.591068Z",
     "iopub.status.idle": "2023-03-17T11:38:02.784788Z",
     "shell.execute_reply": "2023-03-17T11:38:02.781648Z",
     "shell.execute_reply.started": "2023-03-17T11:38:02.59164Z"
    },
    "id": "LZADOplXmnjX"
   },
   "outputs": [],
   "source": [
    "train_ds = tfdf.keras.pd_dataframe_to_tf_dataset(train_ds_pd, label=label)\n",
    "valid_ds = tfdf.keras.pd_dataframe_to_tf_dataset(valid_ds_pd, label=label)"
   ]
  },
  {
   "cell_type": "markdown",
   "metadata": {
    "id": "0-xUiOTwmnjY"
   },
   "source": [
    "# Select a Model\n",
    "\n",
    "There are several tree-based models for you to choose from.\n",
    "\n",
    "* RandomForestModel\n",
    "* GradientBoostedTreesModel\n",
    "* CartModel\n",
    "* DistributedGradientBoostedTreesModel\n",
    "\n",
    "To start, we'll work with a Random Forest. This is the most well-known of the Decision Forest training algorithms.\n",
    "\n",
    "A Random Forest is a collection of decision trees, each trained independently on a random subset of the training dataset (sampled with replacement). The algorithm is unique in that it is robust to overfitting, and easy to use.\n",
    "\n",
    "We can list the all the available models in TensorFlow Decision Forests using the following code:"
   ]
  },
  {
   "cell_type": "code",
   "execution_count": null,
   "metadata": {
    "execution": {
     "iopub.execute_input": "2023-03-17T11:38:02.787233Z",
     "iopub.status.busy": "2023-03-17T11:38:02.786719Z",
     "iopub.status.idle": "2023-03-17T11:38:02.801533Z",
     "shell.execute_reply": "2023-03-17T11:38:02.79832Z",
     "shell.execute_reply.started": "2023-03-17T11:38:02.787177Z"
    },
    "id": "PdQw1cWbmnjY"
   },
   "outputs": [],
   "source": [
    "tfdf.keras.get_all_models()"
   ]
  },
  {
   "cell_type": "markdown",
   "metadata": {
    "id": "sy81fpfxmnjY"
   },
   "source": [
    "# Configure the model\n",
    "\n",
    "TensorFlow Decision Forests provides good defaults for you (e.g. the top ranking hyperparameters on our benchmarks, slightly modified to run in reasonable time). If you would like to configure the learning algorithm, you will find many options you can explore to get the highest possible accuracy.\n",
    "\n",
    "You can select a template and/or set parameters as follows:\n",
    "\n",
    "```rf = tfdf.keras.RandomForestModel(hyperparameter_template=\"benchmark_rank1\")```\n",
    "\n",
    "Read more [here](https://www.tensorflow.org/decision_forests/api_docs/python/tfdf/keras/RandomForestModel)."
   ]
  },
  {
   "cell_type": "markdown",
   "metadata": {
    "id": "AfJMCA6lmnjZ"
   },
   "source": [
    "# Create a Random Forest\n",
    "\n",
    "Today, we will use the defaults to create the Random Forest Model. By default the model is set to train for a classification task."
   ]
  },
  {
   "cell_type": "markdown",
   "metadata": {},
   "source": []
  },
  {
   "cell_type": "code",
   "execution_count": null,
   "metadata": {
    "execution": {
     "iopub.execute_input": "2023-03-17T11:38:02.805636Z",
     "iopub.status.busy": "2023-03-17T11:38:02.803664Z",
     "iopub.status.idle": "2023-03-17T11:38:02.880529Z",
     "shell.execute_reply": "2023-03-17T11:38:02.879Z",
     "shell.execute_reply.started": "2023-03-17T11:38:02.805571Z"
    },
    "id": "j7-gFVDNmnjZ"
   },
   "outputs": [],
   "source": [
    "rf = tfdf.keras.RandomForestModel()\n",
    "rf.compile(metrics=[\"accuracy\"]) # Optional, you can use this to include a list of eval metrics"
   ]
  },
  {
   "cell_type": "markdown",
   "metadata": {
    "id": "wEQXtv4MmnjZ"
   },
   "source": [
    "# Train the model\n",
    "\n",
    "We will train the model using a one-liner.\n",
    "\n",
    "Note: you may see a warning about Autograph. You can safely ignore this, it will be fixed in the next release."
   ]
  },
  {
   "cell_type": "code",
   "execution_count": null,
   "metadata": {
    "execution": {
     "iopub.execute_input": "2023-03-17T11:38:02.883042Z",
     "iopub.status.busy": "2023-03-17T11:38:02.88211Z",
     "iopub.status.idle": "2023-03-17T11:39:06.645138Z",
     "shell.execute_reply": "2023-03-17T11:39:06.644102Z",
     "shell.execute_reply.started": "2023-03-17T11:38:02.882994Z"
    },
    "id": "QcL5KRyLmnja"
   },
   "outputs": [],
   "source": [
    "rf.fit(x=train_ds)"
   ]
  },
  {
   "cell_type": "markdown",
   "metadata": {
    "id": "HQaPDLBjmnja"
   },
   "source": [
    "# Visualize the model\n",
    "One benefit of tree-based models is that we can easily visualize them. The default number of trees used in the Random Forests is 300. We can select a tree to display below."
   ]
  },
  {
   "cell_type": "code",
   "execution_count": null,
   "metadata": {
    "execution": {
     "iopub.execute_input": "2023-03-17T11:39:06.647203Z",
     "iopub.status.busy": "2023-03-17T11:39:06.646833Z",
     "iopub.status.idle": "2023-03-17T11:39:07.196444Z",
     "shell.execute_reply": "2023-03-17T11:39:07.195239Z",
     "shell.execute_reply.started": "2023-03-17T11:39:06.647167Z"
    },
    "id": "hSao4Qstmnja"
   },
   "outputs": [],
   "source": [
    "tfdf.model_plotter.plot_model_in_colab(rf, tree_idx=0, max_depth=3)"
   ]
  },
  {
   "cell_type": "markdown",
   "metadata": {
    "id": "1q5zxzuLmnjb"
   },
   "source": [
    "# Evaluate the model on the Out of bag (OOB) data and the validation dataset\n",
    "\n",
    "Before training the dataset we have manually seperated 20% of the dataset for validation named as `valid_ds`.\n",
    "\n",
    "We can also use Out of bag (OOB) score to validate our RandomForestModel.\n",
    "To train a Random Forest Model, a set of random samples from training set are choosen by the algorithm and the rest of the samples are used to finetune the model.The subset of data that is not chosen is known as Out of bag data (OOB).\n",
    "OOB score is computed on the OOB data.\n",
    "\n",
    "Read more about OOB data [here](https://developers.google.com/machine-learning/decision-forests/out-of-bag).\n",
    "\n",
    "The training logs show the accuracy evaluated on the out-of-bag dataset according to the number of trees in the model. Let us plot this.\n",
    "\n",
    "Note: Larger values are better for this hyperparameter."
   ]
  },
  {
   "cell_type": "code",
   "execution_count": null,
   "metadata": {
    "execution": {
     "iopub.execute_input": "2023-03-17T11:39:07.198663Z",
     "iopub.status.busy": "2023-03-17T11:39:07.197804Z",
     "iopub.status.idle": "2023-03-17T11:39:07.422948Z",
     "shell.execute_reply": "2023-03-17T11:39:07.421611Z",
     "shell.execute_reply.started": "2023-03-17T11:39:07.198625Z"
    },
    "id": "z7u4IuAQmnjb"
   },
   "outputs": [],
   "source": [
    "import matplotlib.pyplot as plt\n",
    "logs = rf.make_inspector().training_logs()\n",
    "plt.plot([log.num_trees for log in logs], [log.evaluation.accuracy for log in logs])\n",
    "plt.xlabel(\"Number of trees\")\n",
    "plt.ylabel(\"Accuracy (out-of-bag)\")\n",
    "plt.show()"
   ]
  },
  {
   "cell_type": "markdown",
   "metadata": {
    "id": "N24V7vhAmnjb"
   },
   "source": [
    "We can also see some general stats on the OOB dataset:"
   ]
  },
  {
   "cell_type": "code",
   "execution_count": null,
   "metadata": {
    "execution": {
     "iopub.execute_input": "2023-03-17T11:39:07.42514Z",
     "iopub.status.busy": "2023-03-17T11:39:07.424578Z",
     "iopub.status.idle": "2023-03-17T11:39:07.434692Z",
     "shell.execute_reply": "2023-03-17T11:39:07.433349Z",
     "shell.execute_reply.started": "2023-03-17T11:39:07.425104Z"
    },
    "id": "QTD92zMGmnjc"
   },
   "outputs": [],
   "source": [
    "inspector = rf.make_inspector()\n",
    "inspector.evaluation()"
   ]
  },
  {
   "cell_type": "markdown",
   "metadata": {
    "id": "SuVS0BGXmnjd"
   },
   "source": [
    "Now, let us run an evaluation using the validation dataset."
   ]
  },
  {
   "cell_type": "code",
   "execution_count": null,
   "metadata": {
    "execution": {
     "iopub.execute_input": "2023-03-17T11:39:07.4367Z",
     "iopub.status.busy": "2023-03-17T11:39:07.43628Z",
     "iopub.status.idle": "2023-03-17T11:39:08.066244Z",
     "shell.execute_reply": "2023-03-17T11:39:08.065264Z",
     "shell.execute_reply.started": "2023-03-17T11:39:07.436667Z"
    },
    "id": "C0SfSxc0mnjd"
   },
   "outputs": [],
   "source": [
    "evaluation = rf.evaluate(x=valid_ds,return_dict=True)\n",
    "\n",
    "for name, value in evaluation.items():\n",
    "  print(f\"{name}: {value:.4f}\")"
   ]
  },
  {
   "cell_type": "markdown",
   "metadata": {
    "id": "cgAI1XrVmnje"
   },
   "source": [
    "# Variable importances\n",
    "\n",
    "Variable importances generally indicate how much a feature contributes to the model predictions or quality. There are several ways to identify important features using TensorFlow Decision Forests.\n",
    "Let us list the available `Variable Importances` for Decision Trees:"
   ]
  },
  {
   "cell_type": "code",
   "execution_count": null,
   "metadata": {
    "execution": {
     "iopub.execute_input": "2023-03-17T11:39:08.068122Z",
     "iopub.status.busy": "2023-03-17T11:39:08.067559Z",
     "iopub.status.idle": "2023-03-17T11:39:08.073989Z",
     "shell.execute_reply": "2023-03-17T11:39:08.072841Z",
     "shell.execute_reply.started": "2023-03-17T11:39:08.068087Z"
    },
    "id": "BdPN_fV1mnje"
   },
   "outputs": [],
   "source": [
    "print(f\"Available variable importances:\")\n",
    "for importance in inspector.variable_importances().keys():\n",
    "  print(\"\\t\", importance)"
   ]
  },
  {
   "cell_type": "markdown",
   "metadata": {
    "id": "dr-nVQwCmnje"
   },
   "source": [
    "As an example, let us display the important features for the Variable Importance `NUM_AS_ROOT`.\n",
    "\n",
    "The larger the importance score for `NUM_AS_ROOT`, the more impact it has on the outcome of the model.\n",
    "\n",
    "By default, the list is sorted from the most important to the least. From the output you can infer that the feature at the top of the list is used as the root node in most number of trees in the random forest than any other feature."
   ]
  },
  {
   "cell_type": "code",
   "execution_count": null,
   "metadata": {
    "execution": {
     "iopub.execute_input": "2023-03-17T11:39:08.076101Z",
     "iopub.status.busy": "2023-03-17T11:39:08.075488Z",
     "iopub.status.idle": "2023-03-17T11:39:08.09116Z",
     "shell.execute_reply": "2023-03-17T11:39:08.089811Z",
     "shell.execute_reply.started": "2023-03-17T11:39:08.076064Z"
    },
    "id": "etYOifhfmnje"
   },
   "outputs": [],
   "source": [
    "# Each line is: (feature name, (index of the feature), importance score)\n",
    "inspector.variable_importances()[\"NUM_AS_ROOT\"]"
   ]
  },
  {
   "cell_type": "markdown",
   "metadata": {
    "id": "DAtAR0vkmnje"
   },
   "source": [
    "# Submission"
   ]
  },
  {
   "cell_type": "code",
   "execution_count": null,
   "metadata": {
    "execution": {
     "iopub.execute_input": "2023-03-17T11:39:08.097594Z",
     "iopub.status.busy": "2023-03-17T11:39:08.096864Z",
     "iopub.status.idle": "2023-03-17T11:39:08.764205Z",
     "shell.execute_reply": "2023-03-17T11:39:08.762812Z",
     "shell.execute_reply.started": "2023-03-17T11:39:08.097552Z"
    },
    "id": "KHBRzBD9mnjf"
   },
   "outputs": [],
   "source": [
    "# Load the test dataset\n",
    "test_df = pd.read_csv('/kaggle/input/spaceship-titanic/test.csv')\n",
    "submission_id = test_df.PassengerId\n",
    "\n",
    "# Replace NaN values with zero\n",
    "test_df[['VIP', 'CryoSleep']] = test_df[['VIP', 'CryoSleep']].fillna(value=0)\n",
    "\n",
    "# Creating New Features - Deck, Cabin_num and Side from the column Cabin and remove Cabin\n",
    "test_df[[\"Deck\", \"Cabin_num\", \"Side\"]] = test_df[\"Cabin\"].str.split(\"/\", expand=True)\n",
    "test_df = test_df.drop('Cabin', axis=1)\n",
    "\n",
    "# Convert boolean to 1's and 0's\n",
    "test_df['VIP'] = test_df['VIP'].astype(int)\n",
    "test_df['CryoSleep'] = test_df['CryoSleep'].astype(int)\n",
    "\n",
    "# Convert pd dataframe to tf dataset\n",
    "test_ds = tfdf.keras.pd_dataframe_to_tf_dataset(test_df)\n",
    "\n",
    "# Get the predictions for testdata\n",
    "predictions = rf.predict(test_ds)\n",
    "n_predictions = (predictions > 0.5).astype(bool)\n",
    "output = pd.DataFrame({'PassengerId': submission_id,\n",
    "                       'Transported': n_predictions.squeeze()})\n",
    "\n",
    "output.head()"
   ]
  },
  {
   "cell_type": "code",
   "execution_count": null,
   "metadata": {
    "execution": {
     "iopub.execute_input": "2023-03-17T11:39:08.767001Z",
     "iopub.status.busy": "2023-03-17T11:39:08.766214Z",
     "iopub.status.idle": "2023-03-17T11:39:08.809562Z",
     "shell.execute_reply": "2023-03-17T11:39:08.807867Z",
     "shell.execute_reply.started": "2023-03-17T11:39:08.766942Z"
    },
    "id": "OZuB6CdUmnjf"
   },
   "outputs": [],
   "source": [
    "sample_submission_df = pd.read_csv('/kaggle/input/spaceship-titanic/sample_submission.csv')\n",
    "sample_submission_df['Transported'] = n_predictions\n",
    "sample_submission_df.to_csv('/kaggle/working/submission.csv', index=False)\n",
    "sample_submission_df.head()"
   ]
  }
 ],
 "metadata": {
  "kaggle": {
   "accelerator": "none",
   "dataSources": [
    {
     "databundleVersionId": 3220602,
     "sourceId": 34377,
     "sourceType": "competition"
    }
   ],
   "dockerImageVersionId": 30407,
   "isGpuEnabled": false,
   "isInternetEnabled": true,
   "language": "python",
   "sourceType": "notebook"
  },
  "kernelspec": {
   "display_name": "Python 3 (ipykernel)",
   "language": "python",
   "name": "python3"
  },
  "language_info": {
   "codemirror_mode": {
    "name": "ipython",
    "version": 3
   },
   "file_extension": ".py",
   "mimetype": "text/x-python",
   "name": "python",
   "nbconvert_exporter": "python",
   "pygments_lexer": "ipython3",
   "version": "3.12.8"
  }
 },
 "nbformat": 4,
 "nbformat_minor": 4
}
